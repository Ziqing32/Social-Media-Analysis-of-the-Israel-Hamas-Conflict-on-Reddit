{
 "cells": [
  {
   "cell_type": "code",
   "execution_count": 1,
   "id": "87c2c7a6",
   "metadata": {},
   "outputs": [],
   "source": [
    "import pandas as pd\n",
    "import numpy as np\n",
    "import matplotlib.pyplot as plt\n",
    "import seaborn as sns\n",
    "import re\n",
    "from datetime import datetime\n",
    "import nltk\n",
    "from nltk.corpus import stopwords\n",
    "from nltk.tokenize import word_tokenize\n",
    "from nltk.stem import WordNetLemmatizer\n",
    "lemmatizer=WordNetLemmatizer()\n",
    "from nltk.corpus import wordnet\n",
    "import pandas as pd\n",
    "from sklearn.feature_extraction.text import TfidfVectorizer\n",
    "from sklearn.cluster import KMeans\n",
    "from nltk.corpus import stopwords\n",
    "from nltk.tokenize import word_tokenize\n",
    "from sklearn.decomposition import PCA\n",
    "import matplotlib.pyplot as plt\n",
    "import re\n",
    "import numpy as np\n",
    "from bs4 import BeautifulSoup\n",
    "from nltk.stem import WordNetLemmatizer\n",
    "from nltk.sentiment.vader import SentimentIntensityAnalyzer\n",
    "import seaborn as sns\n",
    "import matplotlib.pyplot as plt\n",
    "from wordcloud import WordCloud, STOPWORDS\n",
    "from sklearn.feature_extraction.text import TfidfVectorizer\n",
    "from sklearn.decomposition import LatentDirichletAllocation"
   ]
  },
  {
   "cell_type": "code",
   "execution_count": 2,
   "id": "9223288f",
   "metadata": {},
   "outputs": [],
   "source": [
    "pd.set_option('display.max_rows', None)  # 显示所有行\n",
    "pd.set_option('display.max_colwidth', None)  # 显示完整列宽"
   ]
  },
  {
   "cell_type": "code",
   "execution_count": 3,
   "id": "d58ba221",
   "metadata": {},
   "outputs": [],
   "source": [
    "new_counts_df=pd.read_csv('new_counts_df.csv', encoding='latin1', index_col=0)"
   ]
  },
  {
   "cell_type": "code",
   "execution_count": 5,
   "id": "d4dc5c32",
   "metadata": {},
   "outputs": [
    {
     "data": {
      "text/html": [
       "<div>\n",
       "<style scoped>\n",
       "    .dataframe tbody tr th:only-of-type {\n",
       "        vertical-align: middle;\n",
       "    }\n",
       "\n",
       "    .dataframe tbody tr th {\n",
       "        vertical-align: top;\n",
       "    }\n",
       "\n",
       "    .dataframe thead th {\n",
       "        text-align: right;\n",
       "    }\n",
       "</style>\n",
       "<table border=\"1\" class=\"dataframe\">\n",
       "  <thead>\n",
       "    <tr style=\"text-align: right;\">\n",
       "      <th></th>\n",
       "      <th>Counts</th>\n",
       "      <th>Percentage</th>\n",
       "    </tr>\n",
       "    <tr>\n",
       "      <th>Category</th>\n",
       "      <th></th>\n",
       "      <th></th>\n",
       "    </tr>\n",
       "  </thead>\n",
       "  <tbody>\n",
       "    <tr>\n",
       "      <th>Negative</th>\n",
       "      <td>227319</td>\n",
       "      <td>32.020684</td>\n",
       "    </tr>\n",
       "    <tr>\n",
       "      <th>Neutral</th>\n",
       "      <td>344429</td>\n",
       "      <td>48.517072</td>\n",
       "    </tr>\n",
       "    <tr>\n",
       "      <th>Positive</th>\n",
       "      <td>138165</td>\n",
       "      <td>19.462244</td>\n",
       "    </tr>\n",
       "  </tbody>\n",
       "</table>\n",
       "</div>"
      ],
      "text/plain": [
       "          Counts  Percentage\n",
       "Category                    \n",
       "Negative  227319   32.020684\n",
       "Neutral   344429   48.517072\n",
       "Positive  138165   19.462244"
      ]
     },
     "execution_count": 5,
     "metadata": {},
     "output_type": "execute_result"
    }
   ],
   "source": [
    "new_counts_df"
   ]
  },
  {
   "cell_type": "code",
   "execution_count": 7,
   "id": "dfb0067b",
   "metadata": {},
   "outputs": [
    {
     "data": {
      "application/vnd.plotly.v1+json": {
       "config": {
        "plotlyServerURL": "https://plot.ly"
       },
       "data": [
        {
         "domain": {
          "x": [
           0,
           1
          ],
          "y": [
           0,
           1
          ]
         },
         "hole": 0.3,
         "hovertemplate": "Sentiment Category=%{label}<br>Count=%{value}<extra></extra>",
         "labels": [
          "Negative",
          "Neutral",
          "Positive"
         ],
         "legendgroup": "",
         "name": "",
         "showlegend": true,
         "type": "pie",
         "values": {
          "bdata": "93cDAG1BBQC1GwIA",
          "dtype": "i4"
         }
        }
       ],
       "layout": {
        "legend": {
         "tracegroupgap": 0
        },
        "paper_bgcolor": "darkgrey",
        "piecolorway": [
         "rgb(228,26,28)",
         "rgb(55,126,184)",
         "rgb(77,175,74)",
         "rgb(152,78,163)",
         "rgb(255,127,0)",
         "rgb(255,255,51)",
         "rgb(166,86,40)",
         "rgb(247,129,191)",
         "rgb(153,153,153)"
        ],
        "template": {
         "data": {
          "bar": [
           {
            "error_x": {
             "color": "#2a3f5f"
            },
            "error_y": {
             "color": "#2a3f5f"
            },
            "marker": {
             "line": {
              "color": "#E5ECF6",
              "width": 0.5
             },
             "pattern": {
              "fillmode": "overlay",
              "size": 10,
              "solidity": 0.2
             }
            },
            "type": "bar"
           }
          ],
          "barpolar": [
           {
            "marker": {
             "line": {
              "color": "#E5ECF6",
              "width": 0.5
             },
             "pattern": {
              "fillmode": "overlay",
              "size": 10,
              "solidity": 0.2
             }
            },
            "type": "barpolar"
           }
          ],
          "carpet": [
           {
            "aaxis": {
             "endlinecolor": "#2a3f5f",
             "gridcolor": "white",
             "linecolor": "white",
             "minorgridcolor": "white",
             "startlinecolor": "#2a3f5f"
            },
            "baxis": {
             "endlinecolor": "#2a3f5f",
             "gridcolor": "white",
             "linecolor": "white",
             "minorgridcolor": "white",
             "startlinecolor": "#2a3f5f"
            },
            "type": "carpet"
           }
          ],
          "choropleth": [
           {
            "colorbar": {
             "outlinewidth": 0,
             "ticks": ""
            },
            "type": "choropleth"
           }
          ],
          "contour": [
           {
            "colorbar": {
             "outlinewidth": 0,
             "ticks": ""
            },
            "colorscale": [
             [
              0,
              "#0d0887"
             ],
             [
              0.1111111111111111,
              "#46039f"
             ],
             [
              0.2222222222222222,
              "#7201a8"
             ],
             [
              0.3333333333333333,
              "#9c179e"
             ],
             [
              0.4444444444444444,
              "#bd3786"
             ],
             [
              0.5555555555555556,
              "#d8576b"
             ],
             [
              0.6666666666666666,
              "#ed7953"
             ],
             [
              0.7777777777777778,
              "#fb9f3a"
             ],
             [
              0.8888888888888888,
              "#fdca26"
             ],
             [
              1,
              "#f0f921"
             ]
            ],
            "type": "contour"
           }
          ],
          "contourcarpet": [
           {
            "colorbar": {
             "outlinewidth": 0,
             "ticks": ""
            },
            "type": "contourcarpet"
           }
          ],
          "heatmap": [
           {
            "colorbar": {
             "outlinewidth": 0,
             "ticks": ""
            },
            "colorscale": [
             [
              0,
              "#0d0887"
             ],
             [
              0.1111111111111111,
              "#46039f"
             ],
             [
              0.2222222222222222,
              "#7201a8"
             ],
             [
              0.3333333333333333,
              "#9c179e"
             ],
             [
              0.4444444444444444,
              "#bd3786"
             ],
             [
              0.5555555555555556,
              "#d8576b"
             ],
             [
              0.6666666666666666,
              "#ed7953"
             ],
             [
              0.7777777777777778,
              "#fb9f3a"
             ],
             [
              0.8888888888888888,
              "#fdca26"
             ],
             [
              1,
              "#f0f921"
             ]
            ],
            "type": "heatmap"
           }
          ],
          "histogram": [
           {
            "marker": {
             "pattern": {
              "fillmode": "overlay",
              "size": 10,
              "solidity": 0.2
             }
            },
            "type": "histogram"
           }
          ],
          "histogram2d": [
           {
            "colorbar": {
             "outlinewidth": 0,
             "ticks": ""
            },
            "colorscale": [
             [
              0,
              "#0d0887"
             ],
             [
              0.1111111111111111,
              "#46039f"
             ],
             [
              0.2222222222222222,
              "#7201a8"
             ],
             [
              0.3333333333333333,
              "#9c179e"
             ],
             [
              0.4444444444444444,
              "#bd3786"
             ],
             [
              0.5555555555555556,
              "#d8576b"
             ],
             [
              0.6666666666666666,
              "#ed7953"
             ],
             [
              0.7777777777777778,
              "#fb9f3a"
             ],
             [
              0.8888888888888888,
              "#fdca26"
             ],
             [
              1,
              "#f0f921"
             ]
            ],
            "type": "histogram2d"
           }
          ],
          "histogram2dcontour": [
           {
            "colorbar": {
             "outlinewidth": 0,
             "ticks": ""
            },
            "colorscale": [
             [
              0,
              "#0d0887"
             ],
             [
              0.1111111111111111,
              "#46039f"
             ],
             [
              0.2222222222222222,
              "#7201a8"
             ],
             [
              0.3333333333333333,
              "#9c179e"
             ],
             [
              0.4444444444444444,
              "#bd3786"
             ],
             [
              0.5555555555555556,
              "#d8576b"
             ],
             [
              0.6666666666666666,
              "#ed7953"
             ],
             [
              0.7777777777777778,
              "#fb9f3a"
             ],
             [
              0.8888888888888888,
              "#fdca26"
             ],
             [
              1,
              "#f0f921"
             ]
            ],
            "type": "histogram2dcontour"
           }
          ],
          "mesh3d": [
           {
            "colorbar": {
             "outlinewidth": 0,
             "ticks": ""
            },
            "type": "mesh3d"
           }
          ],
          "parcoords": [
           {
            "line": {
             "colorbar": {
              "outlinewidth": 0,
              "ticks": ""
             }
            },
            "type": "parcoords"
           }
          ],
          "pie": [
           {
            "automargin": true,
            "type": "pie"
           }
          ],
          "scatter": [
           {
            "fillpattern": {
             "fillmode": "overlay",
             "size": 10,
             "solidity": 0.2
            },
            "type": "scatter"
           }
          ],
          "scatter3d": [
           {
            "line": {
             "colorbar": {
              "outlinewidth": 0,
              "ticks": ""
             }
            },
            "marker": {
             "colorbar": {
              "outlinewidth": 0,
              "ticks": ""
             }
            },
            "type": "scatter3d"
           }
          ],
          "scattercarpet": [
           {
            "marker": {
             "colorbar": {
              "outlinewidth": 0,
              "ticks": ""
             }
            },
            "type": "scattercarpet"
           }
          ],
          "scattergeo": [
           {
            "marker": {
             "colorbar": {
              "outlinewidth": 0,
              "ticks": ""
             }
            },
            "type": "scattergeo"
           }
          ],
          "scattergl": [
           {
            "marker": {
             "colorbar": {
              "outlinewidth": 0,
              "ticks": ""
             }
            },
            "type": "scattergl"
           }
          ],
          "scattermap": [
           {
            "marker": {
             "colorbar": {
              "outlinewidth": 0,
              "ticks": ""
             }
            },
            "type": "scattermap"
           }
          ],
          "scattermapbox": [
           {
            "marker": {
             "colorbar": {
              "outlinewidth": 0,
              "ticks": ""
             }
            },
            "type": "scattermapbox"
           }
          ],
          "scatterpolar": [
           {
            "marker": {
             "colorbar": {
              "outlinewidth": 0,
              "ticks": ""
             }
            },
            "type": "scatterpolar"
           }
          ],
          "scatterpolargl": [
           {
            "marker": {
             "colorbar": {
              "outlinewidth": 0,
              "ticks": ""
             }
            },
            "type": "scatterpolargl"
           }
          ],
          "scatterternary": [
           {
            "marker": {
             "colorbar": {
              "outlinewidth": 0,
              "ticks": ""
             }
            },
            "type": "scatterternary"
           }
          ],
          "surface": [
           {
            "colorbar": {
             "outlinewidth": 0,
             "ticks": ""
            },
            "colorscale": [
             [
              0,
              "#0d0887"
             ],
             [
              0.1111111111111111,
              "#46039f"
             ],
             [
              0.2222222222222222,
              "#7201a8"
             ],
             [
              0.3333333333333333,
              "#9c179e"
             ],
             [
              0.4444444444444444,
              "#bd3786"
             ],
             [
              0.5555555555555556,
              "#d8576b"
             ],
             [
              0.6666666666666666,
              "#ed7953"
             ],
             [
              0.7777777777777778,
              "#fb9f3a"
             ],
             [
              0.8888888888888888,
              "#fdca26"
             ],
             [
              1,
              "#f0f921"
             ]
            ],
            "type": "surface"
           }
          ],
          "table": [
           {
            "cells": {
             "fill": {
              "color": "#EBF0F8"
             },
             "line": {
              "color": "white"
             }
            },
            "header": {
             "fill": {
              "color": "#C8D4E3"
             },
             "line": {
              "color": "white"
             }
            },
            "type": "table"
           }
          ]
         },
         "layout": {
          "annotationdefaults": {
           "arrowcolor": "#2a3f5f",
           "arrowhead": 0,
           "arrowwidth": 1
          },
          "autotypenumbers": "strict",
          "coloraxis": {
           "colorbar": {
            "outlinewidth": 0,
            "ticks": ""
           }
          },
          "colorscale": {
           "diverging": [
            [
             0,
             "#8e0152"
            ],
            [
             0.1,
             "#c51b7d"
            ],
            [
             0.2,
             "#de77ae"
            ],
            [
             0.3,
             "#f1b6da"
            ],
            [
             0.4,
             "#fde0ef"
            ],
            [
             0.5,
             "#f7f7f7"
            ],
            [
             0.6,
             "#e6f5d0"
            ],
            [
             0.7,
             "#b8e186"
            ],
            [
             0.8,
             "#7fbc41"
            ],
            [
             0.9,
             "#4d9221"
            ],
            [
             1,
             "#276419"
            ]
           ],
           "sequential": [
            [
             0,
             "#0d0887"
            ],
            [
             0.1111111111111111,
             "#46039f"
            ],
            [
             0.2222222222222222,
             "#7201a8"
            ],
            [
             0.3333333333333333,
             "#9c179e"
            ],
            [
             0.4444444444444444,
             "#bd3786"
            ],
            [
             0.5555555555555556,
             "#d8576b"
            ],
            [
             0.6666666666666666,
             "#ed7953"
            ],
            [
             0.7777777777777778,
             "#fb9f3a"
            ],
            [
             0.8888888888888888,
             "#fdca26"
            ],
            [
             1,
             "#f0f921"
            ]
           ],
           "sequentialminus": [
            [
             0,
             "#0d0887"
            ],
            [
             0.1111111111111111,
             "#46039f"
            ],
            [
             0.2222222222222222,
             "#7201a8"
            ],
            [
             0.3333333333333333,
             "#9c179e"
            ],
            [
             0.4444444444444444,
             "#bd3786"
            ],
            [
             0.5555555555555556,
             "#d8576b"
            ],
            [
             0.6666666666666666,
             "#ed7953"
            ],
            [
             0.7777777777777778,
             "#fb9f3a"
            ],
            [
             0.8888888888888888,
             "#fdca26"
            ],
            [
             1,
             "#f0f921"
            ]
           ]
          },
          "colorway": [
           "#636efa",
           "#EF553B",
           "#00cc96",
           "#ab63fa",
           "#FFA15A",
           "#19d3f3",
           "#FF6692",
           "#B6E880",
           "#FF97FF",
           "#FECB52"
          ],
          "font": {
           "color": "#2a3f5f"
          },
          "geo": {
           "bgcolor": "white",
           "lakecolor": "white",
           "landcolor": "#E5ECF6",
           "showlakes": true,
           "showland": true,
           "subunitcolor": "white"
          },
          "hoverlabel": {
           "align": "left"
          },
          "hovermode": "closest",
          "mapbox": {
           "style": "light"
          },
          "paper_bgcolor": "white",
          "plot_bgcolor": "#E5ECF6",
          "polar": {
           "angularaxis": {
            "gridcolor": "white",
            "linecolor": "white",
            "ticks": ""
           },
           "bgcolor": "#E5ECF6",
           "radialaxis": {
            "gridcolor": "white",
            "linecolor": "white",
            "ticks": ""
           }
          },
          "scene": {
           "xaxis": {
            "backgroundcolor": "#E5ECF6",
            "gridcolor": "white",
            "gridwidth": 2,
            "linecolor": "white",
            "showbackground": true,
            "ticks": "",
            "zerolinecolor": "white"
           },
           "yaxis": {
            "backgroundcolor": "#E5ECF6",
            "gridcolor": "white",
            "gridwidth": 2,
            "linecolor": "white",
            "showbackground": true,
            "ticks": "",
            "zerolinecolor": "white"
           },
           "zaxis": {
            "backgroundcolor": "#E5ECF6",
            "gridcolor": "white",
            "gridwidth": 2,
            "linecolor": "white",
            "showbackground": true,
            "ticks": "",
            "zerolinecolor": "white"
           }
          },
          "shapedefaults": {
           "line": {
            "color": "#2a3f5f"
           }
          },
          "ternary": {
           "aaxis": {
            "gridcolor": "white",
            "linecolor": "white",
            "ticks": ""
           },
           "baxis": {
            "gridcolor": "white",
            "linecolor": "white",
            "ticks": ""
           },
           "bgcolor": "#E5ECF6",
           "caxis": {
            "gridcolor": "white",
            "linecolor": "white",
            "ticks": ""
           }
          },
          "title": {
           "x": 0.05
          },
          "xaxis": {
           "automargin": true,
           "gridcolor": "white",
           "linecolor": "white",
           "ticks": "",
           "title": {
            "standoff": 15
           },
           "zerolinecolor": "white",
           "zerolinewidth": 2
          },
          "yaxis": {
           "automargin": true,
           "gridcolor": "white",
           "linecolor": "white",
           "ticks": "",
           "title": {
            "standoff": 15
           },
           "zerolinecolor": "white",
           "zerolinewidth": 2
          }
         }
        },
        "title": {
         "text": "Distribution of Sentiment Categories in Comments"
        }
       }
      }
     },
     "metadata": {},
     "output_type": "display_data"
    }
   ],
   "source": [
    "import plotly.express as px\n",
    "fig = px.pie(new_counts_df, values='Counts', names=new_counts_df.index, \n",
    "             labels={'Category': 'Sentiment Category', 'Counts': 'Count'},\n",
    "             title='Distribution of Sentiment Categories in Comments',\n",
    "             hole=0.3, \n",
    "             color_discrete_sequence=px.colors.qualitative.Set1)\n",
    "fig.update_layout(paper_bgcolor='darkgrey')\n",
    "fig.show()"
   ]
  },
  {
   "cell_type": "code",
   "execution_count": 4,
   "id": "4aebe085",
   "metadata": {},
   "outputs": [],
   "source": [
    "content_filtered=pd.read_csv('content_filtered.csv', encoding='latin1', index_col=0)"
   ]
  },
  {
   "cell_type": "code",
   "execution_count": 5,
   "id": "507120c5",
   "metadata": {},
   "outputs": [
    {
     "name": "stdout",
     "output_type": "stream",
     "text": [
      "397997                                                                                                                                                                                                                                                                                                                                                                                                                                                                                                                                                                                                                                                                                                                                                                                                                                                                                                                                                                                                                                                                                                                                                                                                                                                                                                                                                                                                                                                                                                                                                                                                                                                                                                                                                                                                                                                                                                                                                                                                                                                                                                                                                                                                                                                                                                                   100 generation ago realize person great great great great great great great great great great great great great great great great great great great great great great great great great great great great great great great great great great great great great great great great great great great great great great great great great great great great great great great great great great great great great great great great great great great great great great great great great great great great great great great great great great great great great great great great great great great great great great great great great great great great grandfather ridiculous see way huh european jew even cite name 100 generation separate grandfather could maybe understand that 2000 year impossible information stick name last long time alexander caesar great philosphers king etc way many settler trace ancestry family tree palestinian family go back 400 year many family jew christian equally target israel matter muslim not anyone oppose israeli state treat nakba regardless religion gt palestinian themselves mix foreign arab migrant levantine people sure correct philistine greek sea people however sea people settle gaza ashdod ashkalon almost 500 year kingdom israel philistine old moses year apart equal claim land fact palestinian oppress equal irgun haganah sell weapon britishand french british disarm palestinian europe sew crop displace palestinian 1917 crop reap many jew live peacefully palestine hundred year found zionism judaism religion jewish ethnicity far separate religion sure ethnireligion be unique term jew only please give another prevalent example another ethnoreligion people israel today actually ancestry directly link anyone live israel found calender today gt a current migrant modern era issue country immigration policy thats jewish law return be immigration policy another name dont problem another country set limit can not citizen israel policy egregious problem anyone race ethnicity migrate israel problem settler move occupied land slowly ethnically cleanse palestinian living there gt jewish law return palestinian right return family too nice can not use family farm area b west bank without build permit israeli government family deny 50 year gt bear mind whole point israel one state world jew never face discrimination oppression unfortunate reality sound good me definitely like minority oppress anywhere maybe apply logic palestinian time first negotiation 75 population give 45 land access red sea 20 mediterranean coast line trillion dollar gas reserve access sea galilea really fair deal palestinian make majority population double maybe see logical inconsistency there maybe ca idk uninformed spent 5 year life every day inform myself israeli well like hear side difficult say rhetoric incorrect purely use logical example comparison\n",
      "400038                                                                                                                                                                                                                                                                                                                                                                                                                                                                                                                                                                                                                                                                                                                                                                                                                                                                                                                                                                                                                                                                                                                                                                                                                                                                                                                                                                                                                                                                                                                                                                                                                                                                                                                                                                                                                                                                                                                                                                                                                                                                                                                                                                                                                                                                                                                                                                                                                                                                                                                                                                                                                                                                                                                                                                                                                                                                                                                                                                                                                                                                                                                                                                                                                                                                                                                                                                                                                                                                                                                                                                                                                                                                                                                                                                                                                                                                                                                                                                                                                     israeli terrorise palestinias decade palestinian learn them btw z bro english second language know bro alive 1967 sure could think anything pretty stupid question follow even stupid question palestinian attack jew across planet even say ridiculous question lmao hear nearly many palestinian call erase israel israeli want annex palestine even hear many israeli call annex part syria which already have iraq sinai jordan think of example someone take congo america 2000 year later guy great great great great great great great great great great great great great great great great great great great great great great great great great great great great great great great great great great great great great great great great great great great great great great great great great great great great great great great great great great great great great great great great great great great great great great great great great great great great great great great great great great great great great great great great great great great great great great great great great great great great great great great great great 100 generation grandchild decide go go back congo establish ancient family tradition culture sound fuck ridiculous right\n",
      "467272                                                                                                                                                                                                                                                                                                                                                                                                                                                                                                                                                                                                                                                                                                                                                                                                                                                                                                                                           far know pa pna interchangeable however name palestinian national authority prefer pna but u usa thing feel probably confers modicum respect though however small effect be west bank seem pretty literally definition occupy territory international law appear agree quite literally territory israel invade militarily yet annex previously know palestine long ago 2500 yr directly israel declare independence 1948 draw border territory also refer palestine unless misunderstand question see issue http http http http pna fatah plo stay fairly strict recognize palestine state within 1967 border time even hamas do so pna particular consistent that fatah even make condition hamas agreement join political race often distinction raise israeli side recognize 1967 border recognize israel jewish ethnostate however suppose true recognize israel state along 1967 border israel set occupied west bank gaza whether palestine arab state manner israel jewish state personally think advisable either case fatah secular organization 2006 election set aside proportional representation christian also traditionally share palestine islamic jewish people believe intend differentiate israel regard http http pna much version hamas secular government un recognize representative palestine knowledge never present kind line regard israel proper become part palestine far incredibly unlikely two state peace deal reach occupation ultimately withdrawn pna anything like current state ever turn israel militarily first believe pna bear pragmatic understanding thing simply impossible israel already defeat coalition full nation army every front matter day even powerful now israel also likely leave outpost strategic location america germany japan truly believe however understand soul palestine likely survive thing article interview voter 2005 specifically vote abbas identify palestine west bank gaza http http model gold standard marshall plan empower pna work openly towards peace show effective broker improve daily life palestinian end occupation settlement palestinian voter incredibly desparate 7 poll show support well 50 every single party poll want way occupation give them whoever associate success incredibly popular course israel also choke fund pna send hamas need change project earnest completely rebuild modernize palestine create vibrant prosperous economy see marshall plan succeed goal make whoever broker hero among people actually know need replace abbas much show effective ideally however appear answer question obvious man know the nelson mandela palestine marwan barghouti incarcerate israeli prison currently historically support leader man know actually bring side together hopeful enough figure even many within israel call release apparently table possibility multiple time http http israel answer bit murky also want peace previously majority support two state solution become convinced work crucially however still appear popular option option peace show real progress peace process support be much difficult question one thing clear almost anyone well netanyahu near term benny gantz take leaf significantly moderate actual extremist like likely go netanyahu ideally suppose could maybe point liberal secularist leader yair lapid http fairly substantial support important thing keep support continue boost moderate successful peace process however again point marshall plan international approach determine kind structure successful give culture build them spar expense expediently much consensus possible important thing constant forward motion this tend think necessarily arab state way israel jewish state however possible look build pride abbasid caliphate whose grand 500 yr empire know the golden age islam secular liberal society jewish christian islamic hindu buddhist people live quite stunning peace prosperity simultaneously prosperous time jewish islamic people old world center academic scientific mathematic medical advancement destination esteem academic philosopher share knowledge institution know the house wisdom baghdad know the city peace time ideal scenario palestine could modern image this global destination model peace hope change http http http http\n",
      "686587    cool agree clear definition what terrorist what not goal first comment tell difference ask what difference usually do ill intention go much nuenced take good interest let know first comment look like gt but hard question hard question always one proportionality adherence convention war civilized nation agree to israel simply meet commitment u fail meet commitment largely abandon war terror ask proportionality problematic come respect objective try achieve term ground make extremely difficult small scale demage try agree legitimate beneficial all sure israel meet obligation international law also think there full equivalence morallity law kind scenario quite unique world hear several war historian say phrase no moral war without break law gt i think separation harden gazans agree this again neither u think relevant suppose right now think endless occupation good support step peace object netanyahu however say current war one gt i agree palestinian good strategy nonviolent resistance personally think best move palestinian could put public reasonable offer table israel give right politician could agree to harm legitimacy israel prolong this israel disagree support solution however kind offer come past palestinian reject last offer israel without give actual counter offer israel could somehow say yes to like palestinian harden israel action israeli problem offer offer past seem almost impossible implement gt it little hypocritical israel ask where palestinian ghandis lock up think israel ask ghandis much think current popular group lion den exactly peace partner past israel try legitimate peace attempt figure exactly ghandi material gt hamas go favor multinational security force gaza strip yeah agree highly prefer solution well know solution thrown around israeli society much popular return gaza return before notice leaf question u regard current war israel less collateral demage palestinian think unless world planning give israel time that lot do department agree well give much humanitarian aid thing like this ca think much do nobody want accept palestinian refugee gt the arab nation position recognize israel now able ignore domestic opposition israel without risk another arab spring event sure that saudi state several time return deal israel well interview prominent saudi figure openly state strong voice saudi lot gain department relation israel sure hamas do enough derail that saudi influential arab world general hopefully what good riyadh good others gt currently require anyone claim dual citizenship renounce claim order obtain american passport propose separate democracy world interest u maybe good sure think certain truth evil axis perspective israel beneficial country friend but think could bad palestinian care them what likely happen case large part liberal force inside israel leave leave israel radical force get radical percive international objection guess happen kind move alongside remove support israel happen immidiate annexation palestinian state probably small scale massacure large scale ethnic cleansing world decide violently act country nuke not honestly want live world gt part make conflict longstanding israel backup plan evacuation united state overestemation imo apply israeli definitly one actually want prolong conflict remember israel rich educate often corraletes dovish view exact people come u maybe want say u backing israel un could somewhat accurate again sure make israel pariah state help palestinian gt with respect west bank see legitimate security interest play elaborate sure aware idf action wb well distance wb critical facility israel obviously come alongside cooperation pa sure pa stick without israel eventually solution bet say push israel decide whether part western world hope make right choice think bad one honestly sure make right choice even would sure palestinian make right choice follow result again bad everyone war let suggest different solution go gaza like say attempt deradicalize population external force alongsie add assasinations extreme figure wb secretly try initiate peace talk become public couple year wb let gaza remain special territory now work peace nato like agreement different actor push side equally make concession israel land palestinian arm country probably israel could agree take small number refugee large understand large part what fail previous peace talk meanwhile action take remove terrorist organization wb well good faith action side israel could remove illegal israeli law settlement excuse security liability pa could make public statement regard peace change something education whatnot could result massive riot wb outside force support pa help them eventually democratic election hopefully covert help need pragmatic leader choose important note wb palestinian fairly high support two state solution think high chance work maybe future gaza could unite palestinian freely tie two together kind demaging imo amp x200b last thing want say sorry come bit aggressive obviously ignorant issue evidently agree thought probably misinterpret first comment\n",
      "593780                                                                                                                                                                                                                                                                                                                                                                                                                                                                                                                                                                                                                                                                                                                                                                                                                                                                                                                                                                                                                                                                                                                                                                                                                                                                                                                                                                                                                                                                                                                                                                                                                                                                                                                                                                                                                                                                                                                                                                                                                                                                                                                                                                                                                                                                                                                                                                                                                                                                                                                                                                                                                                                                                                                                                                                                                                                                                                                                                                                                                                                                                                                                                                                                                                                                                                                                                                                                                                                                                                                                                                                                                                                                                                                                                                                                                                                                                                                                                                                                                                                                                                                                                                                                                                                                                                                                                                                                                                                                                                                                                                                                                                                                                                                                                                                                                                                                                                                                                                                            right exist place great great great great great great great great great great great great great great great great great great great great great great great great great great great great great great great great great great great great great great great great great great grandparent s supposedly live\n",
      "281018                                                                                                                                                                                                                                                                                                                                                                                                                                                                                                                                                                                                                                                                                                                                                                                                                                                                                                                                                                                                                                                                                                                                                                                                                                                                                                                                                                                                                                                                                                                                                                                                                                                                                                                                                                                                                                                                                                                                                                                                                                                                                                                                                                                                                                                                                                                                                                                                                                                                                                                                                                                                                                                                                                                                                                                                                                                                                                                                                                                                                                                                                                                                                                                                                                                                                                                                                                                                                                                                                                                                                                                                                                                                                                                                                                                                                                                                                                                                                                                                                                                                                                                                                                                                                                                                                                                                                                                                                                                                                                                                                                                                                                                                                                                                                                                                                                                                                                       someone take house use belong great great great great great great great great great great great great great great great great great great great great great great great great great great great great great great great great great great great great great great great great great great grandfather resist kick force resist violently throw jail kid angry shoot new person son happen victim\n",
      "443563                                                                                                                                                                                                                                                                                                                                                                                                                                                                                                                                                                                                                                                                                                                                                                                                                                                                                                                                                                                                                                                                                                                                                                                                                                                                                                                                                                         flimsy say god promise land israel people thousand year ago consider restoration jewish people back land divinely promise incredible testament faithfulness reliability even love god serve every christian amaze god keep promise make swear oath abraham four thousand year ago demonstrate absolutely trusted keep every promise make u christ new covenant this all whole point hebrew so witness ongoing restoration day build faith awe god yet christian still question whether return jew land israel god say mere accident history result fraught injustice others contend jew forfeit right land reject jesus land need christ come church bear many insist concerned salvation physical piece land totally spiritualise land promise point earthly relevance think it love someone keep promise them tell spouse child love want start break promise them ring hollow land promise still matter today loyalty oath hallmark love indeed character god stake faithfulness keep promise deliver land israel descendant genesis now indeed wonderful spiritual lesson life take biblical story promise land go there let u first try understand fully nature land promise treat throughout scripture clearly bible record god originally promise land canaan abraham natural descendant isaac jacob genesis psalm nature title abraham offspring receive key understanding eternal purpose behind promise former practice real estate attorney use render opinion title landowner represent amazed similarity divine land promise israel bible property deed today grantor grantee specify clear word conveyance warranty title several consistent description precise land convey genesis number exactly nature kind title israel receive normally someone conveys piece property another person deliver title simple mean grantor transfer right claim land grantee retain nothing grantee want build beer joint property former owner nothing it god vested title land abraham heir hand land so covenant abraham god chose land people israel purpose world redemption together might form nation time deliver mean need salvation genesis psalm act roman galatian moses 10 commandment tablet covenant moses god place condition right enjoy possession land summarise leviticus 26 deuteronomy 28 set forth moral requirement israel need meet remain land give them otherwise god vow exile corrective measure yet loss possession mean loss underlie title also promise always come find bring back land leviticus why already promise abraham sworn oath deliver land offspring genesis god hand land israelite simple right come along later impose condition mean israel actually receive title land nature trust whereby god retain ultimate ownership entrust land canaan plan redeem world hold title exclusive claimant absolute ownership free obligation god others trust relationship israel trustee beneficiary land protect provide time even gentile beneficiary trust relationship salvation ultimately come u well see trust relationship evidence leviticus 25 lord set command observe jubilee every 50 year one core command family tribal land lose due debt return original owner part land could permanently sell land leviticus trusteeship also reflect intriguing word conveyance find passage god assure jacob land give abraham isaac give you descendant will give genesis here lord say already give land past tense give land present tense give land future tense one verse speak continual abide entrustment land offspring retain ultimate ownership unique trust relationship involve land people israel see separate come back together various preordained time work plan world redemption along israel never forfeit title land god never renege land promise abraham land promise still await ultimate future fulfilment see this example simple powerful word give http\n",
      "464321                                                                                                                                                                                                                                                                                                                                                                                                                                                                                                                                                                                                                                                                                                                                                                                                                                                                                                                                                                                                                                                                                                                                                                                                                                                                                                                                                                                                                                                                                                                                                                                                                                                                                                                                                                                                                                                                                                                                                                                                                                                                                                                                                                                                                                                                                                                                                                                                                                                                                                                                                                                                                                                                                                                                                                                                                                                                                                                                  letterÃÂ¢ theodore herz youssuf zia mayor jerusalem 19 march 1899 excellency i owe zadok kindness pleasure read letter address him let tell first feel friendship express jewish people inspire deep appreciation jew be be best friend turkey since day sultan selimÃÂ¢ open empire persecute jew spain and friendship consist ready transfer act aid moslem the zionist idea humble servant hostile tendency toward ottoman government quite contrary movement concern open new resource ottoman empire allow immigration number jew bring intelligence financial acumen mean enterprise country one doubt entire country happy result necessary understand this make know everybody a excellency say well letter grand rabbi jew belligerent power behind them neither warlike nature completely peaceful element content peace therefore absolutely nothing fear immigration the question holy place but one think ever touch those say write many time place lose forever faculty belong exclusively one faith one race one people holy place remain holy world moslem christian jew universal peace men good ardently hope symbol brotherly union holy place you see another difficulty excellency existence population palestine think send away individual wealth increase bring own think arab own land house palestine worth three four thousand franc angry see price land rise short time see rise five ten time value perhaps month moreover necessarily happen arrival jew indigenous population must realize gain excellent brother sultan gain faithful good subject make province province historic homeland when one look situation light true one one must friend zionism one friend turkey i hope excellency explanation suffice give little sympathy movement you tell zadok kahn jew well go somewhere else may well happen day realize turkey understand enormous advantage movement offer it explain aim publicly sincerely loyally submit majesty sultan general proposition please believe extreme clearness mind make accept principle idea one afterwards discus detail execution accept it search and believe me find elsewhere need but turkey lose last chance regulate finance recover economic vigour it sincere friend turk tell thing today remember that and accept excellency assurance high consideration sign theodore herzl\n",
      "135073                                                                                                                                                                                                                                                                                                                                                                                                                                                                                                                                                                                                                                                                                                                                                                                                                                                                                                                                                                                                                                                                                                                                                                                       ok take while start get world view way spiritual abstract nature me try play ball nevertheless still understanding way though much terminology opaque me gt actually speak favour palestinian cause fact palestinian society reject literally unless flee speaks favor palestinian cause what reason here gt israel vast material force disposal yet fail effect meaningful change world stagnation metric use measure meaningful change world thing outlined example but far exhaustive list example internal criticism society something suppose make change world tool self reflection criticism society gt jew could become world spiritual leader really want it yet israeli medium promote role model past i mean miltiary men war hero make slight effort bring true greatness public light instead try force come order make subservient interest know world spiritual leader mean well measure that think western country today idolize greatness way think about temporary burst someone might talk lot say gold olympics nobel prize on quickly news stream go next hot topic think place dwell place try silence news stream allow public know what happen gt far aware truly great contemporary jew acknowledge midst date prodigious child composer alma deutscher define acknowledge alma deutscher super niche 99 israeli never hear name however contemporary nobel prize winner like ada yonat dan shechtman household name mostly everyone know gt one ever hear jew like israeli pioneer itzkhak bentov roberto assagioli jacque fresco brilliant idea ever see promoted mainstream western israeli poster child freud einstein neumann kurzweil etc 1 poster child good you wide mainstream recognision due respect itzkhak bentov really say contribution influential einstein think general general public can not know even top that much information people know sometimes specific individual might know field expertise say advanced grad student might know top academic field that something regular people chance know regular people know top world top top einstein top 5 contemporary physicist everyone know him someone nobel prize field medal olympic gold medal reach least short top world might become household name gt hear talk holy land choose palestinian side almost always come israeli side choose something religious right say holy land slightly mainstream still bulk mainstream zionist narrative mainstream zionist narrative be and accordance original post describe mainstream zionist narrative ignore painful fact ignore mainstream israeli ideology jew persecute 2000 year eventually part nationalistic movement 19th century jew also nationalistic movement initially actual location establish state discussion even place like uganada discuss eventually holy land choose practical reason like it easy convince jew go there land buy full legal process ottoman empire later ww1 brit ruling empire diplomatic relation manage convince balfour declaration early settling by book 1947 un resolution distribute land 2 different state local arab population reject it start civil war later join surround arab state israel war form nothing narrative talk choose people on gt one expect accountability organization possess neither desire intent enforce organization hold state accountable much strong force individual individual ever much organization always big project that company build rocket ship someone building garage gt science enjoy prestige scientist one world listen to even politician priest must yield authority that optimistic spiritual look world think actually hold true scientist enjoy prestige field sane mind power yield authority field someone great physicist guarantee know history well all gt artist nature work without senseless destruction carnage loss life property occupy great position society wherever find that nice romantic view world also lack critical nuance imo starter artist certainly try promote destruction carnage someone also artist mean also genocidal maniac\n",
      "57118                                                                                                                                                                                                                                                                                                                                                                                                                                                                                                                                                                                                                                                                                                                                                                                                                                                                                                                                                                                                                                                                                                                                                                                                                                                                                                                                                                                                                                                                                                                                                                                                                                                                                                                                                                                                                                                                                                    agree japan perhaps best example look positive instruction leverage military occupation successfully last peace however think point miss regard apply lesson u occupation japan context palestine u military occupation japan last 7yrs earnest yes japan demilitarize strategic u military base remain station that bulk force thrust occupation end 7yrs time u quickly create plan functionally unlimited budget help rebuild japan communicate path japanese people gain freedom again this couple philosophy profound mercy conquer foe feed clothe them ensure know everything ok freedom gain eternal gratitude japanese people willing aid help u plan rebuild japan end occupation israeli military occupation palestine last 56yrs since that 3 generation palestinian bear enter adulthood israeli occupation first intifada happen 20yrs military occupation begin take full generation born raise oppression militant group hamas form 2nd intifada begin year 2000 fully 33yrs occupation begin israel renege oslo agreement end occupation october 7th happen 20yrs later oslo acceptable term reach finalize border remain determine demilitarization israeli military base land swap etc agree principle palestinian delegation lead fatah so issue palestine never surrender fully conquer problem israel begin internal pressure push colonize palestine result colonization require ongoing military occupation this couple oppressive nature military occupation lead condition eventually militant resistance condition palestinian since then throughout oslo continue try sabotage negotiation two state solution peace israeli militant perform terror attack even assassinate israeli prime minister begin oslo peace process then 2001 likud party take power walk away taba peace process last time israeli side engage structured peace process palestinian fatah continue offer arab peace initiative continue negotiation taba imagine instead spend 7yrs feverishly rebuild japan leave power structure place emperor alive shepherd people alongside u plan work incredible mercy fee cloth first foremost ensure safety communicate plan end occupation path japanese people follow gain freedom again instead u start move hundred thousand citizen grant right status japanese communicate possible end behavior endless constant oppression colonization design path gain freedom think take long kamikaze spirit rise more militant resistance time order peace successful party side must gain leadership position currently since 2007 civil war west bank hamas fatah party govern west bank 95 palestine territory people be fatah remains wait peace process grant them israeli partner engage arab peace initiative fatah offer however long likud remain power appear unlikely occur matter overwhelm force need pacify palestinian resistance resistance like form unbreakable gaza already suffer proportional damage germany japan ever do must happen palestinian must communicate reliable path peace way grant mercy dignity sovereign state freedom jewish people implore world long ago just note post focus issue surround israeli occupation comment primarily israeli frustrate attempt execute end occupation say palestinian hamas also significant detriment prospective peace process certainly have occupy power different conversation\n",
      "Name: clean_text, dtype: object\n"
     ]
    }
   ],
   "source": [
    "top_10_pos_comments = content_filtered.nlargest(n=10, columns=['Compound'])[\"clean_text\"]\n",
    "print(top_10_pos_comments)"
   ]
  },
  {
   "cell_type": "code",
   "execution_count": 7,
   "id": "ed954dbd",
   "metadata": {},
   "outputs": [
    {
     "name": "stdout",
     "output_type": "stream",
     "text": [
      "fyi one look like fall fake news bucket least accord al jazeera hamas twitter post al jazeera journalist arabic http http deeple translation twitter post here http d9 8a d8 a7 d8 b3 d8 b1 20 d8 a3 d8 a8 d9 88 d9 87 d9 84 d8 a7 d9 84 d8 a9 0a 40abuhilalah 0a e2 97 be ef b8 8f e2 97 be ef b8 8f d8 aa d8 a8 d9 8a d9 86 20 d9 85 d9 86 20 d8 ae d9 84 d8 a7 d9 84 20 d8 aa d8 ad d9 82 d9 8a d9 82 d8 a7 d8 aa 20 d8 ad d8 b1 d9 83 d8 a9 20 d8 ad d9 85 d8 a7 d8 b3 20 d8 a5 d9 86 20 d9 82 d8 b5 d8 a9 20 d8 a7 d8 ba d8 aa d8 b5 d8 a7 d8 a8 20 d8 a7 d9 84 d9 86 d8 b3 d8 a7 d8 a1 20 d9 81 d9 8a 20 23 d9 85 d8 b3 d8 aa d8 b4 d9 81 d9 d8 a7 d9 84 d8 b4 d9 81 d8 a7 d8 a1 20 d9 85 d8 ae d8 aa d9 84 d9 82 d8 a9 d8 8c 20 d8 b7 d8 a8 d8 b9 d8 a7 20 d8 a7 d9 84 d8 b9 d8 af d9 88 20 d9 84 d9 85 20 d9 8a d8 aa d9 88 d8 b1 d8 b9 20 d8 b9 d9 86 20 d8 ac d8 b1 d9 8a d9 85 d8 a9 20 d8 a5 d8 a8 d8 a7 d8 af d8 a9 20 0a e2 97 be ef b8 8f e2 97 be ef b8 8f d8 a8 d8 b1 d8 b1 d8 aa 20 d8 a7 d9 84 d8 b3 d9 8a d8 af d8 a9 20 d8 a7 d9 84 d8 aa d9 8a 20 d8 aa d8 ad d8 af d8 ab d8 aa 20 d8 b9 d9 86 20 d8 a7 d9 84 d8 a7 d8 ba d8 aa d8 b5 d8 a7 d8 a8 20 d9 85 d8 a8 d8 a7 d9 84 d8 ba d8 aa d9 87 d8 a7 20 d9 88 d8 ad d8 af d9 8a d8 ab d9 87 d8 a7 20 d8 ba d9 8a d8 b1 20 d8 a7 d9 84 d8 b5 d8 ad d9 8a d8 ad 20 d8 a8 d8 a3 d9 86 20 d8 a7 d9 84 d9 87 d8 af d9 81 20 d8 a3 d8 b3 d8 aa d8 ab d8 a7 d8 b1 d8 a9 20 d8 ad d9 85 d9 8a d8 a9 20 d8 a7 d9 84 d8 a3 d9 85 d8 a9 20 d9 88 d9 86 d8 ae d9 88 d8 aa d9 87 d8 a7 20 20 d9 88 d9 83 d8 a3 d9 86 20 d8 a3 d9 83 d8 ab d8 b1 20 d9 85 d9 86 20 d8 ab d9 84 d8 a7 d8 ab d9 8a d9 86 20 d8 a3 d9 84 d9 81 20 d8 b4 d9 87 d9 8a d8 af 20 d9 88 d8 aa d8 b3 d8 b9 d9 8a d9 86 20 d8 a3 d9 84 d9 81 20 d8 ac d8 b1 d9 8a d8 ad 20 d9 88 d9 86 d8 ad d9 88 20 d9 85 d9 84 d9 8a d9 88 d9 86 20 d9 86 d8 a7 d8 b2 d8 ad 20 d9 88 d8 a7 d9 84 d8 af d9 85 d8 a7 d8 b1 20 d8 a7 d9 84 d8 b4 d8 a7 d9 85 d9 84 20 d8 ba d9 8a d8 b1 20 d9 83 d8 a7 d9 81 20\n",
      "look like base false eye witness report accord al jazeera hamas since deny statement make witness twitter post al jazeera journalist arabic http http deeple translation twitter post here http d9 8a d8 a7 d8 b3 d8 b1 20 d8 a3 d8 a8 d9 88 d9 87 d9 84 d8 a7 d9 84 d8 a9 0a 40abuhilalah 0a e2 97 be ef b8 8f e2 97 be ef b8 8f d8 aa d8 a8 d9 8a d9 86 20 d9 85 d9 86 20 d8 ae d9 84 d8 a7 d9 84 20 d8 aa d8 ad d9 82 d9 8a d9 82 d8 a7 d8 aa 20 d8 ad d8 b1 d9 83 d8 a9 20 d8 ad d9 85 d8 a7 d8 b3 20 d8 a5 d9 86 20 d9 82 d8 b5 d8 a9 20 d8 a7 d8 ba d8 aa d8 b5 d8 a7 d8 a8 20 d8 a7 d9 84 d9 86 d8 b3 d8 a7 d8 a1 20 d9 81 d9 8a 20 23 d9 85 d8 b3 d8 aa d8 b4 d9 81 d9 d8 a7 d9 84 d8 b4 d9 81 d8 a7 d8 a1 20 d9 85 d8 ae d8 aa d9 84 d9 82 d8 a9 d8 8c 20 d8 b7 d8 a8 d8 b9 d8 a7 20 d8 a7 d9 84 d8 b9 d8 af d9 88 20 d9 84 d9 85 20 d9 8a d8 aa d9 88 d8 b1 d8 b9 20 d8 b9 d9 86 20 d8 ac d8 b1 d9 8a d9 85 d8 a9 20 d8 a5 d8 a8 d8 a7 d8 af d8 a9 20 0a e2 97 be ef b8 8f e2 97 be ef b8 8f d8 a8 d8 b1 d8 b1 d8 aa 20 d8 a7 d9 84 d8 b3 d9 8a d8 af d8 a9 20 d8 a7 d9 84 d8 aa d9 8a 20 d8 aa d8 ad d8 af d8 ab d8 aa 20 d8 b9 d9 86 20 d8 a7 d9 84 d8 a7 d8 ba d8 aa d8 b5 d8 a7 d8 a8 20 d9 85 d8 a8 d8 a7 d9 84 d8 ba d8 aa d9 87 d8 a7 20 d9 88 d8 ad d8 af d9 8a d8 ab d9 87 d8 a7 20 d8 ba d9 8a d8 b1 20 d8 a7 d9 84 d8 b5 d8 ad d9 8a d8 ad 20 d8 a8 d8 a3 d9 86 20 d8 a7 d9 84 d9 87 d8 af d9 81 20 d8 a3 d8 b3 d8 aa d8 ab d8 a7 d8 b1 d8 a9 20 d8 ad d9 85 d9 8a d8 a9 20 d8 a7 d9 84 d8 a3 d9 85 d8 a9 20 d9 88 d9 86 d8 ae d9 88 d8 aa d9 87 d8 a7 20 20 d9 88 d9 83 d8 a3 d9 86 20 d8 a3 d9 83 d8 ab d8 b1 20 d9 85 d9 86 20 d8 ab d9 84 d8 a7 d8 ab d9 8a d9 86 20 d8 a3 d9 84 d9 81 20 d8 b4 d9 87 d9 8a d8 af 20 d9 88 d8 aa d8 b3 d8 b9 d9 8a d9 86 20 d8 a3 d9 84 d9 81 20 d8 ac d8 b1 d9 8a d8 ad 20 d9 88 d9 86 d8 ad d9 88 20 d9 85 d9 84 d9 8a d9 88 d9 86 20 d9 86 d8 a7 d8 b2 d8 ad 20 d9 88 d8 a7 d9 84 d8 af d9 85 d8 a7 d8 b1 20 d8 a7 d9 84 d8 b4 d8 a7 d9 85 d9 84 20 d8 ba d9 8a d8 b1 20 d9 83 d8 a7 d9 81 20\n",
      "original article wrong accusation be since u official take enough time fact check them accord hamas original eye witness report base lie twitter post al jazeera journalist arabic http http deeple translation twitter post here http d9 8a d8 a7 d8 b3 d8 b1 20 d8 a3 d8 a8 d9 88 d9 87 d9 84 d8 a7 d9 84 d8 a9 0a 40abuhilalah 0a e2 97 be ef b8 8f e2 97 be ef b8 8f d8 aa d8 a8 d9 8a d9 86 20 d9 85 d9 86 20 d8 ae d9 84 d8 a7 d9 84 20 d8 aa d8 ad d9 82 d9 8a d9 82 d8 a7 d8 aa 20 d8 ad d8 b1 d9 83 d8 a9 20 d8 ad d9 85 d8 a7 d8 b3 20 d8 a5 d9 86 20 d9 82 d8 b5 d8 a9 20 d8 a7 d8 ba d8 aa d8 b5 d8 a7 d8 a8 20 d8 a7 d9 84 d9 86 d8 b3 d8 a7 d8 a1 20 d9 81 d9 8a 20 23 d9 85 d8 b3 d8 aa d8 b4 d9 81 d9 d8 a7 d9 84 d8 b4 d9 81 d8 a7 d8 a1 20 d9 85 d8 ae d8 aa d9 84 d9 82 d8 a9 d8 8c 20 d8 b7 d8 a8 d8 b9 d8 a7 20 d8 a7 d9 84 d8 b9 d8 af d9 88 20 d9 84 d9 85 20 d9 8a d8 aa d9 88 d8 b1 d8 b9 20 d8 b9 d9 86 20 d8 ac d8 b1 d9 8a d9 85 d8 a9 20 d8 a5 d8 a8 d8 a7 d8 af d8 a9 20 0a e2 97 be ef b8 8f e2 97 be ef b8 8f d8 a8 d8 b1 d8 b1 d8 aa 20 d8 a7 d9 84 d8 b3 d9 8a d8 af d8 a9 20 d8 a7 d9 84 d8 aa d9 8a 20 d8 aa d8 ad d8 af d8 ab d8 aa 20 d8 b9 d9 86 20 d8 a7 d9 84 d8 a7 d8 ba d8 aa d8 b5 d8 a7 d8 a8 20 d9 85 d8 a8 d8 a7 d9 84 d8 ba d8 aa d9 87 d8 a7 20 d9 88 d8 ad d8 af d9 8a d8 ab d9 87 d8 a7 20 d8 ba d9 8a d8 b1 20 d8 a7 d9 84 d8 b5 d8 ad d9 8a d8 ad 20 d8 a8 d8 a3 d9 86 20 d8 a7 d9 84 d9 87 d8 af d9 81 20 d8 a3 d8 b3 d8 aa d8 ab d8 a7 d8 b1 d8 a9 20 d8 ad d9 85 d9 8a d8 a9 20 d8 a7 d9 84 d8 a3 d9 85 d8 a9 20 d9 88 d9 86 d8 ae d9 88 d8 aa d9 87 d8 a7 20 20 d9 88 d9 83 d8 a3 d9 86 20 d8 a3 d9 83 d8 ab d8 b1 20 d9 85 d9 86 20 d8 ab d9 84 d8 a7 d8 ab d9 8a d9 86 20 d8 a3 d9 84 d9 81 20 d8 b4 d9 87 d9 8a d8 af 20 d9 88 d8 aa d8 b3 d8 b9 d9 8a d9 86 20 d8 a3 d9 84 d9 81 20 d8 ac d8 b1 d9 8a d8 ad 20 d9 88 d9 86 d8 ad d9 88 20 d9 85 d9 84 d9 8a d9 88 d9 86 20 d9 86 d8 a7 d8 b2 d8 ad 20 d9 88 d8 a7 d9 84 d8 af d9 85 d8 a7 d8 b1 20 d8 a7 d9 84 d8 b4 d8 a7 d9 85 d9 84 20 d8 ba d9 8a d8 b1 20 d9 83 d8 a7 d9 81 20\n",
      "http amp http amp http http http d9 84 d8 a3 d9 88 d9 d9 85 d8 b1 d8 d8 ac d9 86 d9 88 d8 d8 a5 d8 b3 d8 b1 d8 a7 d8 a6 d9 8a d9 84 d9 8a d9 88 d9 d9 8a d8 b4 d8 a7 d8 b1 d9 83 d9 88 d9 d9 81 d9 d9 85 d9 86 d8 a7 d9 88 d8 b1 d8 a7 d8 d8 b9 d8 b3 d9 83 d8 b1 d9 8a d8 d8 a8 d8 a7 d9 84 d9 85 d8 ba d8 b1 d8 http d9 84 d8 a3 d9 88 d9 d9 85 d8 b1 d8 d8 ac d9 86 d9 88 d8 d8 a5 d8 b3 d8 b1 d8 a7 d8 a6 d9 8a d9 84 d9 8a d9 88 d9 d9 8a d8 b4 d8 a7 d8 b1 d9 83 d9 88 d9 d9 81 d9 d9 85 d9 86 d8 a7 d9 88 d8 b1 d8 a7 d8 d8 b9 d8 b3 d9 83 d8 b1 d9 8a d8 d8 a8 d8 a7 d9 84 d9 85 d8 ba d8 b1 d8 http d8 a7 d9 84 d8 b7 d8 a7 d8 a6 d9 81 d8 d8 a7 d9 84 d9 8a d9 87 d9 88 d8 af d9 8a d9 91 d8 d8 a7 d9 84 d9 85 d8 ba d8 b1 d8 a8 d9 8a d8 d8 aa d8 aa d8 a8 d8 b1 d8 d9 85 d9 http d8 a7 d9 84 d8 b7 d8 a7 d8 a6 d9 81 d8 d8 a7 d9 84 d9 8a d9 87 d9 88 d8 af d9 8a d9 91 d8 d8 a7 d9 84 d9 85 d8 ba d8 b1 d8 a8 d9 8a d8 d8 aa d8 aa d8 a8 d8 b1 d8 d9 85 d9 http d8 b6 d8 a8 d8 a7 d8 d9 88 d8 ac d9 86 d9 88 d8 d9 8a d9 87 d9 88 d8 d9 85 d8 ba d8 b1 d8 a8 d9 8a d9 8a d9 d9 81 d9 d8 a7 d9 84 d8 ad d8 b1 d8 d8 a7 d9 84 d8 b5 d9 87 d9 8a http d8 b6 d8 a8 d8 a7 d8 d9 88 d8 ac d9 86 d9 88 d8 d9 8a d9 87 d9 88 d8 d9 85 d8 ba d8 b1 d8 a8 d9 8a d9 8a d9 d9 81 d9 d8 a7 d9 84 d8 ad d8 b1 d8 d8 a7 d9 84 d8 b5 d9 87 d9 8a http http http http http http\n",
      "raafidi houthi leader ibraheem kill two brother reject give rental land http d8 a7 d9 84 d9 82 d9 8a d8 a7 d8 af d9 d8 a7 d9 84 d8 ad d9 88 d8 ab d9 d8 a5 d8 a8 d8 b1 d8 a7 d9 87 d9 8a d9 d8 a7 d9 84 d8 b2 d8 a8 d9 8a d8 b1 d9 d9 8a d9 82 d8 aa d9 d8 b4 d9 82 d9 8a d9 82 d9 8a d9 d8 b1 d9 81 d8 b6 d8 d8 aa d8 a3 d8 ac d9 8a d8 b1 d9 d8 a3 d8 b1 d8 b6 d9 87 d9 d8 a8 d8 b5 d9 86 d8 b9 d8 a7 d8 houthi belligerent expose execute yemeni muslim http d8 ac d8 b1 d9 8a d9 85 d8 d8 a5 d8 b9 d8 af d8 a7 d9 d9 81 d9 d8 a5 d8 d9 8a d8 b1 d8 aa d9 83 d8 a8 d9 87 d8 d9 82 d9 8a d8 a7 d8 af d9 d9 81 d9 d9 85 d9 84 d9 8a d8 b4 d9 8a d8 d8 a7 d9 84 d8 ad d9 88 d8 ab d9 d8 a8 d8 ad d9 d9 85 d9 88 d8 a7 d8 b7 d9 d9 85 d9 d8 aa d8 b9 d8 transgression captive part one http d8 a3 d9 88 d8 b1 d9 8a d9 86 d8 d9 86 d9 8a d9 88 d8 d8 aa d9 86 d9 81 d8 b1 d8 d8 a8 d8 a7 d8 b9 d8 aa d8 b1 d8 a7 d9 81 d8 a7 d8 d9 84 d8 a3 d8 b3 d8 b1 d9 d8 ad d8 b2 d8 d8 a7 d9 84 d9 84 d9 d8 a7 d9 84 d9 84 d8 a8 d9 86 d8 a7 d9 86 d9 d8 a8 d8 b1 d9 8a d9 d8 ad d9 84 d8 captive part two http captive part three http muslim mosque turn dumpster insult abu bakr umar may allaah please them http part two above http takfeering muslim yemen threaten destroy yemen http threat destroy saudi arabia israel http threat saudi http we stop final sunni muslim earth kill http collection crime muslim extreme http d8 ac d8 b1 d8 a7 d8 a6 d9 85 20 d8 a7 d9 84 d8 b1 d8 a7 d9 81 d8 b6 d8\n",
      "crime muslim all arabic feel free use google assistant translate hasan nasr say responsible kill migration million syrian http d8 ad d8 b3 d9 d9 86 d8 b5 d8 d8 a7 d9 84 d9 84 d9 d9 8a d8 b6 d8 d8 a7 d9 84 d9 86 d9 82 d8 a7 d8 d8 b9 d9 84 d9 d8 a7 d9 84 d8 ad d8 b1 d9 88 d9 81 ef bc d9 86 d8 ad d9 d9 82 d8 aa d9 84 d9 86 d8 d9 88 d9 87 d8 ac d8 b1 d9 86 d8 d9 85 d9 84 d8 a7 d9 8a d9 8a d9 d8 a7 d9 84 d8 b3 d9 88 d8 b1 d9 8a d9 8a d9 raafida kill muslim throw height http 281 shia man sick it defend woman humiliate shia give choice bed starvation death http d8 b4 d9 8a d8 b9 d9 d8 af d8 a7 d9 81 d8 d8 b9 d9 d8 a7 d9 85 d8 b1 d8 a3 d8 d8 a7 d8 a8 d8 aa d8 b2 d9 91 d8 aa d9 87 d8 d9 85 d9 8a d9 84 d9 8a d8 b4 d9 8a d8 d8 ad d8 b2 d8 d8 a7 d9 84 d9 84 d9 d9 88 d8 ae d9 8a d9 91 d8 b1 d8 aa d9 87 d8 d8 a8 d9 8a d9 d8 a7 d9 84 d8 ac d9 88 d8 hezbollat support nusayri army bashar al assad syrian regime muslim http d8 aa d8 b9 d8 b1 d9 91 d9 d8 a5 d9 84 d9 d8 a7 d9 84 d9 85 d9 8a d9 84 d9 8a d8 b4 d9 8a d8 a7 d8 d8 a7 d9 84 d9 81 d9 84 d8 b3 d8 b7 d9 8a d9 86 d9 8a d8 d8 a7 d9 84 d8 aa d9 d8 aa d9 82 d8 a7 d8 aa d9 d9 81 d9 d8 b3 d9 88 d8 b1 d9 8a d8 d8 af d9 81 d8 a7 d8 b9 d8 a7 d9 d8 b9 d9 d9 86 d8 b8 d8 a7 d9\n",
      "tel hai 1920 arab murder 8 jew nebi musa 1920 arab murder 5 jew wind 216 jaffa 1921 arab murder 47 jew wind 140 jerusalem stabbings 1921 arab murder 5 jew include woman child hebron massacre 1929 arab murder 133 jew wind 339 jaffa 1936 arab murder 16 jew wind 40 arab strike 1936 arab murder 80 jew wind 300 safed august 13 1937 arab enter jewish home murder family 4 include 3 child har haruach november 9 1937 arab ambush murder 5 jewish worker haifa march 28 1938 arab murder 6 jewish passenger travel safed atlit august 16 1938 arab kidnap jewish family murder 3 them tiberias pogrom 1938 arab murder 19 jew fajja bus attack 1947 7 jew murder jerusalem riot 1947 8 jew murder haifa 1947 arab sniper murder 4 jew jerusalem 1947 arab murder 7 jew drive jerusalem bab el wad 1947 arab sniper murder 5 jew travel tel aviv 1947 arab murder 4 jew mortar haifa massacre 1947 arab beat 39 jew death injure 49 more jerusalem 1948 arab murder 3 jew 1948 arab murder 11 jew decapitate one haifa 1948 arab murder 7 jew hebron convoy 1948 arab murder 35 jew convoy attempt resupply blockade kibbutz food yehiam 1948 arab murder 8 jew yazur 1948 arab murder 7 jew unknown location south israel jan 25 1948 arab murder 10 jew haifa 1948 arab murder 10 jew bus jerusalem 1948 arab murder 10 jew tel aviv 1948 arab murder 10 jew ben yehuda street bomb 1948 arab militant murder 55 jew rd 1948 arab murder 16 jew jewish agency bomb 1948 16 jew murder hadassah medical convoy massacre 1948 arab murder 78 jewish nurse doctor patient kfar etzion massacre 1948 arab murder jew avivim school bus massacre 1970 palestine liberation front murder 12 israeli include 9 child 25 wound lod airport massacre 1972 palestine liberation front murder 26 israeli injures 80 kiryat shmona massacre 1975 palestine liberation murder 18 include 8 child injures 15 massacre 1974 democratic front liberation palestine murder 29 israeli injures 68 victim mostly child zion square massacre 1975 palestine liberation murder 15 israeli injures 77 coastal road massacre 1978 plo murder 38 israeli include 13 child 71 wound dizengoff street bomb 1994 hamas murder 22 israeli injures 50 others beit lid massacre 1995 palestinian islamic jihad murder 21 israeli injures 69 sbarro restaurant massacre 2001 hamas murder 15 israeli include 7 child injures 130 dolphinarium discotheque massacre 2001 hamas murder 21 israeli wound hebrew university bombing 2002 hamas murder 9 israeli injures 100 more bat mitzvah massacre 2002 martyr brigade murder 7 wound 33 yeshivat beit yisrael massacre 2002 fatah murder 11 include 7 child 2 infant cafe moment bombing 2002 brigade murder 11 israeli wind 54 passover massacre 2002 hamas murder 30 include multiple holocaust survivor injure 140 kiryat menachem massacre 2002 hamas murder 11 wound tlv bus station massacre 2003 fatah murder 23 injures 100 samuel hanavi bombing 2003 hamas murder 24 wound mercaz harav massacre 2008 palestinian gunman murder 8 israeli school 7 student jerusalem bulldozer attack 2008 palestinian man murder 3 israeli injures 30 jerusalem synagogue massacre 2014 two palestinian men murder 5 israeli include four rabbi police officer tel aviv shoot 2016 two palestinin men murder four israeli civilian restaurant beersheba attack 2022 palestinian man murder 4 israeli ram attack bnei brak shoot 2022 palestinian man murder five pedestrian october 7 massacre 2023 hamas palestinian civilian murder israeli injure hundred more kidnap 250 also go stabbings shoot car rammings palestinian perpetrate almost weekly israeli civilian many elderly pregnant child since oct 7 include shoot school bus full kid window bullet proof obvious reason kill multiple people include individual murder murder shalhevet pas 10 month old baby shot kill stroller palestinian sniper parent walking house\n",
      "right july 12 2005 netanya 5 kill wound islamic jihad suicide bomb outside shopping mall february 25 2005 tel aviv 5 kill 50 wounded islamic jihad bombing outside night club october 7 2004 taba 12 kill wound bomb sinai holiday resort august 31 2004 beersheba 16 kill 100 wounded hamas two suicide bomb bus march 14 2004 ashdod 10 kill 16 wound hamas fatah al aqsa martyr brigade twin suicide bomb port february 22 2004 jerusalem 8 kill 60 wound fatah al aqsa martyr brigade suicide bombing bus january 29 2004 jerusalem 10 kill 50 wound fatah martyr brigade suicide bomb bus october 4 2003 haifa 19 kill 60 wounded islamic jihad suicide bomb restaurant own jew arab september 9 2003 tel aviv 8 kill 32 wound hamas suicide bomb hitchhike post soldier september 9 2003 jerusalem 7 kill 50 wound hamas suicide bomb cafe hillel august 19 2003 jerusalem 22 kill 135 wound hamas suicide bomb bus january 5 2003 tel aviv 23 kill 108 injured fatah martyr brigade two suicide bomber immigrant neighborhood august 4 2002 safed 9 kill 38 injured hamas suicide bomb bus june 19 2002 jerusalem 7 kill 50 injured suicide bomb bus stop june 18 2002 jerusalem 19 kill 74 injured hamas suicide bomb bus june 5 2002 megiddo 17 kill 38 injured islamic jihad car bomb next bus may 27 2002 petah tikvah 2 kill 37 injured fatah martyr brigade suicide bomb shop mall may 22 2002 rishon lezion 2 kill 40 wound suicide bomb pedestrian mall may 19 2002 netanya 3 kill 59 injured hamas pflp suicide bomb market may 7 2002 rishon lezion 16 kill 55 injured hamas suicide bomb pool hall apr 12 2002 jerusalem 6 kill 104 injured fatah martyr brigade suicide bomb mahane yehuda market apr 10 2002 kibbutz yagur 8 kill 22 injured hamas suicide bomb bus march 31 2002 haifa 14 kill 40 wound hamas suicide bomb restaurant march 29 2002 jerusalem 2 kill 28 wound fatah martyr brigade suicide bomb supermarket kiryat yovel march 27 2002 netanya 22 kill 140 wound hamas suicide bomb passover seder park hotel march 21 2002 jerusalem 3 kill 86 wound fatah martyr brigade suicide bomb downtown march 20 2002 afula 7 kill 30 wound fatah martyr brigade suicide bombing bus march 14 2002 road 3 kill 2 wound fatah martyr brigade remote control mine march 12 2002 near kibbutz matzuva 6 kill 7 wound fatah martyr brigade gunman ambush vehicle march 12 2002 kiryat sefer checkpoint 1 kill 1 wound shoot attack march 11 2002 ashdod 1 wound gunman open fire bar mitzvah march 10 2002 netzarim 1 kill fatah martyr brigade shoot attack march 9 2002 jerusalem 11 kill 54 wound hamas suicide bomber cafe march 9 2002 netanya 2 kill 50 wound fatah martyr brigade 2 gunman open fire promenade march 7 2002 atzmona 5 kill 23 wounded terrorist open fire throw grenade march 7 2002 ariel gt 6 wound suicide bomber hotel lobby march 5 2002 sderot 1 baby wound kassam rocket march 5 2002 afula 1 kill 10 wound\n",
      "july 12 2005 netanya 5 kill wound islamic jihad suicide bomb outside shopping mall february 25 2005 tel aviv 5 kill 50 wounded islamic jihad bombing outside night club october 7 2004 taba 12 kill wound bomb sinai holiday resort august 31 2004 beersheba 16 kill 100 wounded hamas two suicide bomb bus march 14 2004 ashdod 10 kill 16 wound hamas fatah al aqsa martyr brigade twin suicide bomb port february 22 2004 jerusalem 8 kill 60 wound fatah al aqsa martyr brigade suicide bombing bus january 29 2004 jerusalem 10 kill 50 wound fatah martyr brigade suicide bomb bus october 4 2003 haifa 19 kill 60 wounded islamic jihad suicide bomb restaurant own jew arab september 9 2003 tel aviv 8 kill 32 wound hamas suicide bomb hitchhike post soldier september 9 2003 jerusalem 7 kill 50 wound hamas suicide bomb cafe hillel august 19 2003 jerusalem 22 kill 135 wound hamas suicide bomb bus january 5 2003 tel aviv 23 kill 108 injured fatah martyr brigade two suicide bomber immigrant neighborhood august 4 2002 safed 9 kill 38 injured hamas suicide bomb bus june 19 2002 jerusalem 7 kill 50 injured suicide bomb bus stop june 18 2002 jerusalem 19 kill 74 injured hamas suicide bomb bus june 5 2002 megiddo 17 kill 38 injured islamic jihad car bomb next bus may 27 2002 petah tikvah 2 kill 37 injured fatah martyr brigade suicide bomb shop mall may 22 2002 rishon lezion 2 kill 40 wound suicide bomb pedestrian mall may 19 2002 netanya 3 kill 59 injured hamas pflp suicide bomb market may 7 2002 rishon lezion 16 kill 55 injured hamas suicide bomb pool hall apr 12 2002 jerusalem 6 kill 104 injured fatah martyr brigade suicide bomb mahane yehuda market apr 10 2002 kibbutz yagur 8 kill 22 injured hamas suicide bomb bus march 31 2002 haifa 14 kill 40 wound hamas suicide bomb restaurant march 29 2002 jerusalem 2 kill 28 wound fatah martyr brigade suicide bomb supermarket kiryat yovel march 27 2002 netanya 22 kill 140 wound hamas suicide bomb passover seder park hotel march 21 2002 jerusalem 3 kill 86 wound fatah martyr brigade suicide bomb downtown march 20 2002 afula 7 kill 30 wound fatah martyr brigade suicide bombing bus march 14 2002 road 3 kill 2 wound fatah martyr brigade remote control mine march 12 2002 near kibbutz matzuva 6 kill 7 wound fatah martyr brigade gunman ambush vehicle march 12 2002 kiryat sefer checkpoint 1 kill 1 wound shoot attack march 11 2002 ashdod 1 wound gunman open fire bar mitzvah march 10 2002 netzarim 1 kill fatah martyr brigade shoot attack march 9 2002 jerusalem 11 kill 54 wound hamas suicide bomber cafe march 9 2002 netanya 2 kill 50 wound fatah martyr brigade 2 gunman open fire promenade march 7 2002 atzmona 5 kill 23 wounded terrorist open fire throw grenade march 7 2002 ariel gt 6 wound suicide bomber hotel lobby march 5 2002 sderot 1 baby wound kassam rocket march 5 2002 afula 1 kill 10 wound\n",
      "gt plenty empathy israel oct thank god israeli civilian die since gt gt but that totally eclipse empathy gazans bomb starve death since continue be world cry people gaza gt gt any decent person know heart what happen gazans wrong gt gt but get it sure good decent person too that need what hamas justification live yourself any decent person know heart what happen gazans wrong thing agree statement agree populace rule terrorist organization nation worry portray world organization implement agenda nation fight defend itself say oct 7th begin say they mean palestinian return thank god israeli civilian die yes thank god october 7 surprise attack israel morning simchat torah hamas launch attack israel thousand rocket initially fire israel gaza strip time palestinian terrorist break border enter israel foot use boat sea use parachute glide air use motorize vehicle hold firefights israeli security force take settlement military installation later massacre murder israeli citizen carry included torture include massacre nature festival near large terrorist attack history state israel massacre bari least 85 member kibbutz murder ground sabotage activity combine increase massive continuous rocket fire thousand rocket southern central region attack approximately israeli foreign citizen israeli soldier murder approximately israeli foreign citizen israeli soldier injure include 292 critical condition least 244 soldier civilian include child elderly kidnap gaza strip 110 release follow attack israeli government declare war iron sword amp x200b october 7 terrorist try stab security coordinator beit aryeh neutral 10 amp x200b october 7 terrorist try run soldier near 10 amp x200b october 7 terrorist throw molotov cocktail lebanese border idf force deploy 10 amp x200b october 8 stab attack jerusalem prevent police arrest two arab near synagogue givat disguise jew knife 10 amp x200b october 9 terrorist throw molotov cocktail mgb fighter 10 amp x200b october 10 terrorist launch firework throw stone security force silwan neighborhood two terrorist launch firework 10 amp x200b october 11 terrorist tried steal weapon soldier tunnel checkpoint route 60 kill mp soldier moderately injured fire force 10 amp x200b october 12 khaled terrorist beit hanina affiliate popular front 10 fire carlo submachine gun police officer entrance shalem police station jerusalem injure two police officer serious light condition terrorist try escape shot 10 10 amp x200b october 12 terrorist shot idf force talmonim area one soldier slightly wound shrapnel terrorist 10 amp x200b october 13 disturbance judea samaria 4 terrorist kill yms endanger life stone molotov cocktail near tulkarem terrorist open fire settlement mevo dotan merav salem checkpoint gilboa cross jelma checkpoint terrorist try attack israeli vehicle route 60 idf force prevent arrival operation terrorist throw stone force idf force neutralize him terrorist try throw stone israeli mount hebron number terrorist come prayer mosque try attack jew one terrorist neutralize local citizen incident casualty idf 10 amp x200b october 13 terrorist throw stone military vehicle near imatin idf begin chase terrorist chase several terrorist shot vehicle another idf force jump scene operation idf reserve officer kill fire force another soldier one slightly 10 amp x200b october 19 confrontation noor refugee camp operation 13 terrorist kill mgb fighter kill another 9 fighter wound minor 10 amp x200b october 20 hezbollah terrorist infiltrate lebanon shot idf force moshav margaliot shot dead attack carry part lebanese front iron sword war amp x200b october 22 terrorist try run number idf soldier near terrorist neutralized addition scan carry scene knife find terrorist 10 amp x200b october 24 activity counter terrorism burka explosive device thrown fighter one fighter in reserve moderately 10 amp x200b october 24 terrorist open fire minibus near ra karkar binyamin terrorist escape vehicle 10 amp x200b october 26 activity counter terrorism part war iron sword troop leave detention center city tuba violent disorder develop include throw explosive throw stone troop respond 10 amp x200b october 26 terrorist attack two jewish shepherd ax stone near rimonim junction benjamin one seriously injured life danger minor 10 amp x200b october 28 terrorist fire idf force 10 amp x200b october 29 terrorist shot pass vehicle near shavi 10 amp x200b october 30 terrorist stab mgb soldier near jerusalem light rail station shabti yisrael boulevard jerusalem force start chase shot death area district court jerusalem soldier stab seriously 10\n"
     ]
    }
   ],
   "source": [
    "top_10_neg_comments = content_filtered.nsmallest(n=10, columns=['Compound'])[\"clean_text\"]\n",
    "for comment in top_10_neg_comments:\n",
    "    print(comment.strip())"
   ]
  },
  {
   "cell_type": "code",
   "execution_count": 8,
   "id": "c11afeb6",
   "metadata": {},
   "outputs": [
    {
     "name": "stdout",
     "output_type": "stream",
     "text": [
      "holy fuck pathetic loser hope swell as charge ban gym\n",
      "create next generation fighter never forget\n",
      "we never knowingly condone accept someone bet life save give nod start\n",
      "lucky sure spell fuck funny way\n",
      "damn every right upset\n",
      "lucky alive hopefully help remove head as\n",
      "like watch sim get arrest lmfaoo\n",
      "nothing say strong like able control emotion assult others tantrum go jail time out\n",
      "state emergency effect ecuador narcos military basically declare war cartel even take tv station today live air http amp amp amp\n",
      "significant advance kind like step one make bear stew first catch bear\n"
     ]
    }
   ],
   "source": [
    "top_10_high_score_comments = content_filtered.sort_values('score', ascending=False)['clean_text'].drop_duplicates().head(10)\n",
    "for comment in top_10_high_score_comments:\n",
    "    print(comment.strip())"
   ]
  },
  {
   "cell_type": "code",
   "execution_count": 9,
   "id": "20057fcf",
   "metadata": {},
   "outputs": [
    {
     "name": "stdout",
     "output_type": "stream",
     "text": [
      "actor here stop use central cast line central cast cast extra background actor people notice film amp tv say someone straight cc say blend background lol\n",
      "reason people offend others wear stupid red hat lol\n",
      "there irony never understand lol edit hello israeli reddit army nice see effective per usual\n",
      "me people who offend mask sure think\n",
      "gt do understand hamas exist brutal occupation treatment palestinian gaza strip think so actually far know blockade essentially start after hamas violently take gaza strip fire rocket israel could definitely argue treatment palestinian gaza exacerbate radicalization palestinian think say cause hamas entirely accurate gt from outside clear brutal dehumanise israeli political military regime palestinian radical violent response be surely important deal cause problem first rather symptom agree me issue practical israel treat palestinian good without sacrifice security way magically give palestinian good life lift blockade without sacrifice security obviously agree heartbeat unfortunately currently seem like game\n",
      "people sit pay edit vote demonstrate far sunk society everyone look way cheat everyone excuse behavior\n",
      "always funny hero become identified european identity instead other\n",
      "http http israel able trade many palestinian hostage hold year 1st hostage trade swap roughly 80 list convict crime either charge crime yet prosecute detained practice know administrative detention whereby israel hold palestinian occupied territory formal charge evidence present them\n",
      "short attention span\n",
      "lot disagree comment think voice disagreement actually lead dialogue much historical debate instead simply say personally convinced hamas point time solely invest destroy state israel cause much pain possible achieves goal think dissolve ambition palestinian state create thus creation state simply escalate war large proportion lead even loss side\n"
     ]
    }
   ],
   "source": [
    "top_10_low_score_comments = content_filtered.sort_values('score', ascending=True)['clean_text'].drop_duplicates().head(10)\n",
    "for comment in top_10_low_score_comments:\n",
    "    print(comment.strip())"
   ]
  },
  {
   "cell_type": "code",
   "execution_count": 9,
   "id": "9b41f89b",
   "metadata": {},
   "outputs": [
    {
     "data": {
      "image/png": "[encoded data removed]",
      "text/plain": [
       "<Figure size 1000x600 with 1 Axes>"
      ]
     },
     "metadata": {},
     "output_type": "display_data"
    }
   ],
   "source": [
    "sentiment_categories = [\"Positive\", \"Negative\", \"Neutral\"]\n",
    "colors = ['green', 'red', 'yellow']\n",
    "plt.figure(figsize=(10, 6))\n",
    "for category, color in zip(sentiment_categories, colors):\n",
    "    sns.kdeplot(content_filtered[category], color=color, label=category, fill=True)\n",
    "plt.xlabel('Sentiment Score')\n",
    "plt.ylabel('Density')\n",
    "plt.title('Density Plot of Sentiment Scores')\n",
    "plt.legend(title='Sentiment Category')\n",
    "plt.show()"
   ]
  },
  {
   "cell_type": "code",
   "execution_count": 10,
   "id": "9f59cede",
   "metadata": {},
   "outputs": [
    {
     "data": {
      "text/plain": [
       "<seaborn.axisgrid.FacetGrid at 0x26021d4fd90>"
      ]
     },
     "execution_count": 10,
     "metadata": {},
     "output_type": "execute_result"
    },
    {
     "data": {
      "image/png": "[encoded data removed]",
      "text/plain": [
       "<Figure size 500x500 with 1 Axes>"
      ]
     },
     "metadata": {},
     "output_type": "display_data"
    }
   ],
   "source": [
    "sns.displot(data=content_filtered, x=\"Compound\", kind=\"kde\", fill=True, color='green', linewidth=2)"
   ]
  }
 ],
 "metadata": {
  "kernelspec": {
   "display_name": "is6750-sp25",
   "language": "python",
   "name": "python3"
  },
  "language_info": {
   "codemirror_mode": {
    "name": "ipython",
    "version": 3
   },
   "file_extension": ".py",
   "mimetype": "text/x-python",
   "name": "python",
   "nbconvert_exporter": "python",
   "pygments_lexer": "ipython3",
   "version": "3.10.16"
  }
 },
 "nbformat": 4,
 "nbformat_minor": 5
}
